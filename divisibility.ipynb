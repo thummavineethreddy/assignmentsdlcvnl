{
 "cells": [
  {
   "cell_type": "code",
   "execution_count": null,
   "metadata": {
    "collapsed": true
   },
   "outputs": [],
   "source": [
    "factors=[]\n",
    "for num in range(2000,3200):\n",
    "    if(num%7==0 and num%5!=0):\n",
    "        factors.append(num)\n",
    "for ele in factors:\n",
    "    last=factors[-1]\n",
    "    if(ele==last):\n",
    "       print(ele)\n",
    "    else:\n",
    "       print(ele, end=\",\")"
   ]
  }
 ],
 "metadata": {
  "kernelspec": {
   "display_name": "Python 3",
   "language": "python",
   "name": "python3"
  },
  "language_info": {
   "codemirror_mode": {
    "name": "ipython",
    "version": 3
   },
   "file_extension": ".py",
   "mimetype": "text/x-python",
   "name": "python",
   "nbconvert_exporter": "python",
   "pygments_lexer": "ipython3",
   "version": "3.6.3"
  }
 },
 "nbformat": 4,
 "nbformat_minor": 2
}
